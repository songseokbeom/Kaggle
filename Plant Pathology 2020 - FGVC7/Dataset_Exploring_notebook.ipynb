{
  "nbformat": 4,
  "nbformat_minor": 0,
  "metadata": {
    "kernelspec": {
      "language": "python",
      "display_name": "Python 3",
      "name": "python3"
    },
    "language_info": {
      "pygments_lexer": "ipython3",
      "nbconvert_exporter": "python",
      "version": "3.6.4",
      "file_extension": ".py",
      "codemirror_mode": {
        "name": "ipython",
        "version": 3
      },
      "name": "python",
      "mimetype": "text/x-python"
    },
    "colab": {
      "name": "Plant_Pathology.ipynb",
      "provenance": [],
      "include_colab_link": true
    }
  },
  "cells": [
    {
      "cell_type": "markdown",
      "metadata": {
        "id": "view-in-github",
        "colab_type": "text"
      },
      "source": [
        "<a href=\"https://colab.research.google.com/github/songseokbeom/Kaggle/blob/master/Plant%20Pathology%202020%20-%20FGVC7/Dataset_Exploring_notebook.ipynb\" target=\"_parent\"><img src=\"https://colab.research.google.com/assets/colab-badge.svg\" alt=\"Open In Colab\"/></a>"
      ]
    },
    {
      "cell_type": "markdown",
      "metadata": {
        "id": "1ZeCq7V1zXzU",
        "colab_type": "text"
      },
      "source": [
        "Kaggle Plant Pathology 2020 - FGVC7(Detecting the category of foliar diseases in apple trees)"
      ]
    },
    {
      "cell_type": "code",
      "metadata": {
        "_uuid": "8f2839f25d086af736a60e9eeb907d3b93b6e0e5",
        "_cell_guid": "b1076dfc-b9ad-4769-8c92-a6c4dae69d19",
        "trusted": true,
        "id": "8g_ptQFwzXzW",
        "colab_type": "code",
        "colab": {}
      },
      "source": [
        "# This Python 3 environment comes with many helpful analytics libraries installed\n",
        "# It is defined by the kaggle/python docker image: https://github.com/kaggle/docker-python\n",
        "# For example, here's several helpful packages to load in \n",
        "\n",
        "import numpy as np # linear algebra\n",
        "import pandas as pd # data processing, CSV file I/O (e.g. pd.read_csv)\n",
        "import os\n",
        "\n",
        "# Input data files are available in the \"../input/\" directory.\n",
        "# For example, running this (by clicking run or pressing Shift+Enter) will list all files under the input directory"
      ],
      "execution_count": 0,
      "outputs": []
    },
    {
      "cell_type": "code",
      "metadata": {
        "_uuid": "d629ff2d2480ee46fbb7e2d37f6b5fab8052498a",
        "_cell_guid": "79c7e3d0-c299-4dcb-8224-4455121ee9b0",
        "trusted": true,
        "id": "o-CWO-51zXza",
        "colab_type": "code",
        "colab": {},
        "outputId": "ee0db9f6-c3dd-4ecf-f69e-b21b434ed6f9"
      },
      "source": [
        "Default_Path = \"../input/plant-pathology-2020-fgvc7\"\n",
        "print(os.listdir(Default_Path))\n",
        "\n",
        "Image_Path = Default_Path + \"/images\"\n",
        "train_df = pd.read_csv(Default_Path + \"/train.csv\")\n",
        "test_df = pd.read_csv(Default_Path + \"/test.csv\")"
      ],
      "execution_count": 0,
      "outputs": [
        {
          "output_type": "stream",
          "text": [
            "['test.csv', 'sample_submission.csv', 'train.csv', 'images']\n"
          ],
          "name": "stdout"
        }
      ]
    },
    {
      "cell_type": "code",
      "metadata": {
        "trusted": true,
        "id": "NnkZKCv3zXze",
        "colab_type": "code",
        "colab": {},
        "outputId": "6bac7715-e5cb-44f5-ff52-8285bc8938f6"
      },
      "source": [
        "# 이미지 갯수, csv shape 확인\n",
        "print('train data shape: ', train_df.shape)\n",
        "print('Total images in train set: ', train_df['image_id'].count())\n",
        "print('[train_csv example]\\n', train_df.head(3))\n",
        "print('---------------------------------------------------')\n",
        "print('test data shape: ', test_df.shape)\n",
        "print('Total images in test set: ', train_df['image_id'].count())\n",
        "print('[test_csv example]\\n', test_df.head(3))"
      ],
      "execution_count": 0,
      "outputs": [
        {
          "output_type": "stream",
          "text": [
            "train data shape:  (1821, 5)\n",
            "Total images in train set:  1821\n",
            "[train_csv example]\n",
            "   image_id  healthy  multiple_diseases  rust  scab\n",
            "0  Train_0        0                  0     0     1\n",
            "1  Train_1        0                  1     0     0\n",
            "2  Train_2        1                  0     0     0\n",
            "---------------------------------------------------\n",
            "test data shape:  (1821, 1)\n",
            "Total images in test set:  1821\n",
            "[test_csv example]\n",
            "   image_id\n",
            "0   Test_0\n",
            "1   Test_1\n",
            "2   Test_2\n"
          ],
          "name": "stdout"
        }
      ]
    },
    {
      "cell_type": "code",
      "metadata": {
        "trusted": true,
        "id": "iYuIz3C2zXzh",
        "colab_type": "code",
        "colab": {},
        "outputId": "404c6332-6a47-48c7-b6ad-cab72522d8bb"
      },
      "source": [
        "# 분류되지 않은 데이터 확인\n",
        "print('train set')\n",
        "print(train_df.info())\n",
        "print('------------------------------------------')\n",
        "print('test set')\n",
        "print(test_df.info())"
      ],
      "execution_count": 0,
      "outputs": [
        {
          "output_type": "stream",
          "text": [
            "train set\n",
            "<class 'pandas.core.frame.DataFrame'>\n",
            "RangeIndex: 1821 entries, 0 to 1820\n",
            "Data columns (total 5 columns):\n",
            "image_id             1821 non-null object\n",
            "healthy              1821 non-null int64\n",
            "multiple_diseases    1821 non-null int64\n",
            "rust                 1821 non-null int64\n",
            "scab                 1821 non-null int64\n",
            "dtypes: int64(4), object(1)\n",
            "memory usage: 71.3+ KB\n",
            "None\n",
            "------------------------------------------\n",
            "test set\n",
            "<class 'pandas.core.frame.DataFrame'>\n",
            "RangeIndex: 1821 entries, 0 to 1820\n",
            "Data columns (total 1 columns):\n",
            "image_id    1821 non-null object\n",
            "dtypes: object(1)\n",
            "memory usage: 14.4+ KB\n",
            "None\n"
          ],
          "name": "stdout"
        }
      ]
    },
    {
      "cell_type": "code",
      "metadata": {
        "trusted": true,
        "id": "dofjyGaAzXzm",
        "colab_type": "code",
        "colab": {}
      },
      "source": [
        "# class 추출\n",
        "classes=[]\n",
        "for col in train_df.columns:\n",
        "    classes.append(col) \n",
        "classes.remove('image_id')"
      ],
      "execution_count": 0,
      "outputs": []
    },
    {
      "cell_type": "code",
      "metadata": {
        "trusted": true,
        "id": "IdwIzEHVzXzo",
        "colab_type": "code",
        "colab": {},
        "outputId": "68cd3a17-857f-440d-e75b-8eb20534caf3"
      },
      "source": [
        "# 클래스 별 샘플 수 체크\n",
        "for c in classes:\n",
        "    print(f\"#{c} samples: {train_df[c].sum()}\")"
      ],
      "execution_count": 0,
      "outputs": [
        {
          "output_type": "stream",
          "text": [
            "#healthy samples: 516\n",
            "#multiple_diseases samples: 91\n",
            "#rust samples: 622\n",
            "#scab samples: 592\n"
          ],
          "name": "stdout"
        }
      ]
    },
    {
      "cell_type": "markdown",
      "metadata": {
        "id": "8fEwxW3AzXzr",
        "colab_type": "text"
      },
      "source": [
        "multiple_diseases 샘플 수가 다른 샘플들에 비해 상대적으로 적음"
      ]
    },
    {
      "cell_type": "code",
      "metadata": {
        "trusted": true,
        "id": "HP3NdYbxzXzr",
        "colab_type": "code",
        "colab": {},
        "outputId": "fb247a25-f155-4fbd-8775-7dd4d26fd97f"
      },
      "source": [
        "# 중복된 데이터 확인\n",
        "train_id = set(train_df.image_id.values)\n",
        "print(f\"#Unique train images: {len(train_id)}\")\n",
        "test_id = set(test_df.image_id.values)\n",
        "print(f\"#Unique train images: {len(test_id)}\")\n",
        "both_images = train_id.intersection(test_id)\n",
        "print(f\"#Images in both train set and test set: {len(both_images)}\")"
      ],
      "execution_count": 0,
      "outputs": [
        {
          "output_type": "stream",
          "text": [
            "#Unique train images: 1821\n",
            "#Unique train images: 1821\n",
            "#Images in both train set and test set: 0\n"
          ],
          "name": "stdout"
        }
      ]
    },
    {
      "cell_type": "markdown",
      "metadata": {
        "id": "566AwrY7zXzv",
        "colab_type": "text"
      },
      "source": [
        "train set, test set내에 중복된 데이터는 존재하지 않음\n",
        "또한, train set과 test set에 모두 들어간 데이터도 존재하지 않음"
      ]
    }
  ]
}