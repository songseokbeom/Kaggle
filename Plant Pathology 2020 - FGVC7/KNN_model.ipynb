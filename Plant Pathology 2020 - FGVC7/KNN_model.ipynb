{
  "nbformat": 4,
  "nbformat_minor": 0,
  "metadata": {
    "kernelspec": {
      "language": "python",
      "display_name": "Python 3",
      "name": "python3"
    },
    "language_info": {
      "pygments_lexer": "ipython3",
      "nbconvert_exporter": "python",
      "version": "3.6.4",
      "file_extension": ".py",
      "codemirror_mode": {
        "name": "ipython",
        "version": 3
      },
      "name": "python",
      "mimetype": "text/x-python"
    },
    "colab": {
      "name": "kernel70b294dc7b (1).ipynb",
      "provenance": [],
      "include_colab_link": true
    }
  },
  "cells": [
    {
      "cell_type": "markdown",
      "metadata": {
        "id": "view-in-github",
        "colab_type": "text"
      },
      "source": [
        "<a href=\"https://colab.research.google.com/github/songseokbeom/Kaggle/blob/master/Plant%20Pathology%202020%20-%20FGVC7/KNN_model.ipynb\" target=\"_parent\"><img src=\"https://colab.research.google.com/assets/colab-badge.svg\" alt=\"Open In Colab\"/></a>"
      ]
    },
    {
      "cell_type": "markdown",
      "metadata": {
        "id": "j55gyc6sNKMV",
        "colab_type": "text"
      },
      "source": [
        "Kaggle Plant Pathology 2020 - FGVC7(Detecting the category of foliar diseases in apple trees)"
      ]
    },
    {
      "cell_type": "code",
      "metadata": {
        "_uuid": "8f2839f25d086af736a60e9eeb907d3b93b6e0e5",
        "_cell_guid": "b1076dfc-b9ad-4769-8c92-a6c4dae69d19",
        "trusted": true,
        "id": "AOfxQGkjNKMX",
        "colab_type": "code",
        "colab": {}
      },
      "source": [
        "# This Python 3 environment comes with many helpful analytics libraries installed\n",
        "# It is defined by the kaggle/python docker image: https://github.com/kaggle/docker-python\n",
        "# For example, here's several helpful packages to load in \n",
        "\n",
        "import numpy as np # linear algebra\n",
        "import pandas as pd # data processing, CSV file I/O (e.g. pd.read_csv)\n",
        "import os\n",
        "from tqdm.notebook import tqdm\n",
        "from PIL import Image\n",
        "from sklearn.neighbors import KNeighborsClassifier\n",
        "from sklearn.preprocessing import StandardScaler\n",
        "\n",
        "# Input data files are available in the \"../input/\" directory.\n",
        "# For example, running this (by clicking run or pressing Shift+Enter) will list all files under the input directory"
      ],
      "execution_count": 0,
      "outputs": []
    },
    {
      "cell_type": "code",
      "metadata": {
        "_uuid": "d629ff2d2480ee46fbb7e2d37f6b5fab8052498a",
        "_cell_guid": "79c7e3d0-c299-4dcb-8224-4455121ee9b0",
        "trusted": true,
        "id": "DIzctfHrNKMb",
        "colab_type": "code",
        "colab": {}
      },
      "source": [
        "MAIN_PATH = \"../input/plant-pathology-2020-fgvc7\"\n",
        "print(os.listdir(MAIN_PATH))\n",
        "\n",
        "IMAGE_PATH = MAIN_PATH + \"/images/\"\n",
        "train_df = pd.read_csv(MAIN_PATH + \"/train.csv\")\n",
        "test_df = pd.read_csv(MAIN_PATH + \"/test.csv\")"
      ],
      "execution_count": 0,
      "outputs": []
    },
    {
      "cell_type": "code",
      "metadata": {
        "trusted": true,
        "id": "uufdrnbaNKMe",
        "colab_type": "code",
        "colab": {}
      },
      "source": [
        "# 이미지 갯수, csv shape 확인\n",
        "print('train data shape: ', train_df.shape)\n",
        "print('Total images in train set: ', train_df['image_id'].count())\n",
        "print('[train_csv example]\\n', train_df.head(3))\n",
        "print('---------------------------------------------------')\n",
        "print('test data shape: ', test_df.shape)\n",
        "print('Total images in test set: ', train_df['image_id'].count())\n",
        "print('[test_csv example]\\n', test_df.head(3))"
      ],
      "execution_count": 0,
      "outputs": []
    },
    {
      "cell_type": "code",
      "metadata": {
        "trusted": true,
        "id": "XBgyBWVPNKMj",
        "colab_type": "code",
        "colab": {}
      },
      "source": [
        "# 분류되지 않은 데이터 확인\n",
        "print('train set')\n",
        "print(train_df.info())\n",
        "print('------------------------------------------')\n",
        "print('test set')\n",
        "print(test_df.info())"
      ],
      "execution_count": 0,
      "outputs": []
    },
    {
      "cell_type": "code",
      "metadata": {
        "trusted": true,
        "id": "2-aTiBHeNKMp",
        "colab_type": "code",
        "colab": {}
      },
      "source": [
        "# class 추출\n",
        "temp=[]\n",
        "classes = {}\n",
        "for col in train_df.columns:\n",
        "    temp.append(col) \n",
        "temp.remove('image_id')\n",
        "for i in range(len(temp)):\n",
        "    classes[i] = temp[i]"
      ],
      "execution_count": 0,
      "outputs": []
    },
    {
      "cell_type": "code",
      "metadata": {
        "trusted": true,
        "id": "zznfgZqLNKM0",
        "colab_type": "code",
        "colab": {}
      },
      "source": [
        "# 클래스 별 샘플 수 체크\n",
        "for c in range(0,len(classes)):\n",
        "    print(f\"#{classes[c]} samples: {train_df[classes[c]].sum()}\")"
      ],
      "execution_count": 0,
      "outputs": []
    },
    {
      "cell_type": "markdown",
      "metadata": {
        "id": "gOcpIjCjNKM9",
        "colab_type": "text"
      },
      "source": [
        "multiple_diseases 샘플 수가 다른 샘플들에 비해 상대적으로 적음"
      ]
    },
    {
      "cell_type": "code",
      "metadata": {
        "trusted": true,
        "id": "3aAXoZ89NKNF",
        "colab_type": "code",
        "colab": {}
      },
      "source": [
        "# 중복된 데이터 확인\n",
        "train_id = set(train_df.image_id.values)\n",
        "print(f\"#Unique train images: {len(train_id)}\")\n",
        "test_id = set(test_df.image_id.values)\n",
        "print(f\"#Unique train images: {len(test_id)}\")\n",
        "both_images = train_id.intersection(test_id)\n",
        "print(f\"#Images in both train set and test set: {len(both_images)}\")"
      ],
      "execution_count": 0,
      "outputs": []
    },
    {
      "cell_type": "markdown",
      "metadata": {
        "id": "q-aZejnUNKNX",
        "colab_type": "text"
      },
      "source": [
        "train set, test set내에 중복된 데이터는 존재하지 않음\n",
        "또한, train set과 test set에 모두 들어간 데이터도 존재하지 않음"
      ]
    },
    {
      "cell_type": "code",
      "metadata": {
        "trusted": true,
        "id": "Oogquv4BNKNY",
        "colab_type": "code",
        "colab": {}
      },
      "source": [
        "train_X = train_df.sample(n=100)\n",
        "train_Y = np.zeros((100))\n",
        "test_X = test_df.sample(n=50)\n",
        "train_X_flatten, test_X_flatten = [], []\n",
        "\n",
        "for i in range(0, len(train_X)):\n",
        "    s = train_X[i:i+1].values\n",
        "    img = np.array(Image.open(IMAGE_PATH + s[0][0] +'.jpg'))\n",
        "    train_X_flatten.append(np.ravel(img, order='C'))\n",
        "    for j in range(1, 5):\n",
        "        if(s[0][j]==1):\n",
        "            train_Y[i] = j - 1\n",
        "            break\n",
        "train_X_flatten = np.array(train_X_flatten)\n",
        "\n",
        "for i in range(0, len(test_X)):\n",
        "    s = test_X[i:i+1].values\n",
        "    img = np.array(Image.open(IMAGE_PATH + s[0][0] + '.jpg'))\n",
        "    test_X_flatten.append(np.ravel(img, order='C'))\n",
        "test_X_flatten = np.array(test_X_flatten)\n",
        "\n",
        "print(f\"Train set(flatten) shape: {train_X_flatten.shape}\")\n",
        "print(f\"Test set(flatten) shape: {test_X_flatten.shape}\")"
      ],
      "execution_count": 0,
      "outputs": []
    },
    {
      "cell_type": "code",
      "metadata": {
        "trusted": true,
        "id": "h4yaMYXANKNg",
        "colab_type": "code",
        "colab": {}
      },
      "source": [
        "scaler = StandardScaler()\n",
        "scaler.fit(train_X_flatten)\n",
        "train_X_std = scaler.transform(train_X_flatten)\n",
        "test_X_std = scaler.transform(test_X_flatten)"
      ],
      "execution_count": 0,
      "outputs": []
    },
    {
      "cell_type": "code",
      "metadata": {
        "trusted": true,
        "id": "2J6Rs8_VNKNm",
        "colab_type": "code",
        "colab": {}
      },
      "source": [
        "neigh = KNeighborsClassifier(n_neighbors=5)\n",
        "neigh.fit(train_X_std, train_Y)"
      ],
      "execution_count": 0,
      "outputs": []
    },
    {
      "cell_type": "code",
      "metadata": {
        "trusted": true,
        "id": "g0jD8R9ANKNt",
        "colab_type": "code",
        "colab": {}
      },
      "source": [
        "score = neigh.score(train_X_std, train_Y)\n",
        "print(f\"Model accuracy: {score}\")"
      ],
      "execution_count": 0,
      "outputs": []
    },
    {
      "cell_type": "code",
      "metadata": {
        "trusted": true,
        "id": "0Kfs-aTtNKN0",
        "colab_type": "code",
        "colab": {},
        "outputId": "acd3bc18-15dc-4c3d-a64a-b7cb90f159a1"
      },
      "source": [
        "os.chdir(r'kaggle/working')\n",
        "from IPython.display import FileLink\n",
        "FileLink(r'df_name.csv')"
      ],
      "execution_count": 0,
      "outputs": [
        {
          "output_type": "error",
          "ename": "FileNotFoundError",
          "evalue": "[Errno 2] No such file or directory: 'kaggle/working'",
          "traceback": [
            "\u001b[0;31m---------------------------------------------------------------------------\u001b[0m",
            "\u001b[0;31mFileNotFoundError\u001b[0m                         Traceback (most recent call last)",
            "\u001b[0;32m<ipython-input-14-8c65ce963b2f>\u001b[0m in \u001b[0;36m<module>\u001b[0;34m\u001b[0m\n\u001b[0;32m----> 1\u001b[0;31m \u001b[0mos\u001b[0m\u001b[0;34m.\u001b[0m\u001b[0mchdir\u001b[0m\u001b[0;34m(\u001b[0m\u001b[0;34mr'kaggle/working'\u001b[0m\u001b[0;34m)\u001b[0m\u001b[0;34m\u001b[0m\u001b[0m\n\u001b[0m\u001b[1;32m      2\u001b[0m \u001b[0;32mfrom\u001b[0m \u001b[0mIPython\u001b[0m\u001b[0;34m.\u001b[0m\u001b[0mdisplay\u001b[0m \u001b[0;32mimport\u001b[0m \u001b[0mFileLink\u001b[0m\u001b[0;34m\u001b[0m\u001b[0m\n\u001b[1;32m      3\u001b[0m \u001b[0mFileLink\u001b[0m\u001b[0;34m(\u001b[0m\u001b[0;34mr'df_name.csv'\u001b[0m\u001b[0;34m)\u001b[0m\u001b[0;34m\u001b[0m\u001b[0m\n",
            "\u001b[0;31mFileNotFoundError\u001b[0m: [Errno 2] No such file or directory: 'kaggle/working'"
          ]
        }
      ]
    },
    {
      "cell_type": "code",
      "metadata": {
        "trusted": true,
        "id": "9AXzEMLqNKN6",
        "colab_type": "code",
        "colab": {}
      },
      "source": [
        ""
      ],
      "execution_count": 0,
      "outputs": []
    }
  ]
}